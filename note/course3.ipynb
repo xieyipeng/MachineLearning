{
 "cells": [
  {
   "cell_type": "markdown",
   "metadata": {},
   "source": [
    "### 3.1 Matrices and vectors\n",
    "\n",
    "* matrices:$m\\times n,eg:A,B,C...$\n",
    "\n",
    "* vectors $n\\times 1,eg:a,b,c...$\n",
    "\n",
    "* 默认下标使用1开始\n",
    "\n"
   ]
  },
  {
   "cell_type": "markdown",
   "metadata": {},
   "source": [
    "### 3.2 Addition and scalar multiplication\n",
    "\n",
    "* addition\n",
    "\n",
    "![](../pic/QQ截图20201021143444.png)\n",
    "\n",
    "* scalar multiplication\n",
    "\n",
    "$$\n",
    "3 \\times\\left[ \\begin{matrix} 1 & 2 & 3 \\\\ 4 & 5 & 6 \\\\ 7 & 8 & 9 \\end{matrix} \\right] \\tag{3}\\\\\n",
    "$$\n",
    "\n"
   ]
  },
  {
   "cell_type": "markdown",
   "metadata": {},
   "source": [
    "### 3.3 multiplication\n",
    "\n",
    "* Matrices-vectors\n",
    "\n",
    "![](../pic/QQ截图20201021143754.png)\n",
    "\n",
    "* Matrices-Matrices\n",
    "\n",
    "![](../pic/QQ截图20201021144230.png)\n",
    "\n",
    "* additional\n",
    "\n",
    "$A\\times B \\neq B\\times A$\n",
    "\n",
    "$A\\times (B \\times C) = (A\\times B) \\times C$\n",
    "\n",
    "$A\\cdot I = I\\cdot A = A$"
   ]
  },
  {
   "cell_type": "markdown",
   "metadata": {},
   "source": [
    "### 3.4 Inverse and transpose\n",
    "\n",
    "* Inverse\n",
    "\n",
    "* transpose"
   ]
  },
  {
   "cell_type": "code",
   "execution_count": null,
   "metadata": {},
   "outputs": [],
   "source": []
  }
 ],
 "metadata": {
  "kernelspec": {
   "display_name": "Python 3",
   "language": "python",
   "name": "python3"
  },
  "language_info": {
   "codemirror_mode": {
    "name": "ipython",
    "version": 3
   },
   "file_extension": ".py",
   "mimetype": "text/x-python",
   "name": "python",
   "nbconvert_exporter": "python",
   "pygments_lexer": "ipython3",
   "version": "3.6.2"
  }
 },
 "nbformat": 4,
 "nbformat_minor": 4
}
