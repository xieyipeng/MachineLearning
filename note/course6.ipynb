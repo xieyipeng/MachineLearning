{
 "cells": [
  {
   "cell_type": "markdown",
   "metadata": {},
   "source": [
    "### 6.1 Classification\n",
    "\n",
    "* Classification\n",
    "\n",
    "$y\\in \\lbrace 0,1\\rbrace$\n",
    "\n",
    "$0: \"Negative class\"$\n",
    "\n",
    "$1: \"Positive class\"$\n",
    "\n",
    "* It is not recommended to use linear regression for classification problems\n",
    "\n",
    "> For historical reasons, logistic regression is a classification algorithm\n",
    "\n",
    "![](../pic/QQ截图20201023090924.png)\n",
    "\n",
    "\n"
   ]
  },
  {
   "cell_type": "markdown",
   "metadata": {},
   "source": [
    "### 6.2 Hypothesis Representation(假设陈述)\n",
    "\n",
    "* Linear Regression Model\n",
    "\n",
    "$$\n",
    "h_{\\theta}(x)=\\theta^Tx\\\\\n",
    "$$\n",
    "\n",
    "> 若 $\\theta^Tx=0$，则说明该$x$处在假设边界上\n",
    "\n",
    "* Logistic Regression Model\n",
    "\n",
    "$$\n",
    "h_{\\theta}(x)=g(\\theta^Tx)\\\\\n",
    "其中，g(z)=\\frac{1}{1+e^{-z}}\n",
    "$$\n"
   ]
  },
  {
   "cell_type": "code",
   "execution_count": 41,
   "metadata": {},
   "outputs": [
    {
     "data": {
      "text/plain": [
       "<matplotlib.collections.PathCollection at 0x1b22a4e1128>"
      ]
     },
     "execution_count": 41,
     "metadata": {},
     "output_type": "execute_result"
    },
    {
     "data": {
      "image/png": "[encoded data removed]",
      "text/plain": [
       "<matplotlib.figure.Figure at 0x1b22a3ea048>"
      ]
     },
     "metadata": {
      "needs_background": "light"
     },
     "output_type": "display_data"
    }
   ],
   "source": [
    "# Draw sigmoid function graph\n",
    "\n",
    "import numpy as np\n",
    "import matplotlib.pyplot as plt\n",
    "%matplotlib inline\n",
    "\n",
    "def sigmoid(x):\n",
    "    return 1 / (1 + np.exp(-x))\n",
    "\n",
    "def y1(x):\n",
    "    return x/x\n",
    "\n",
    "fig = plt.figure()\n",
    "\n",
    "x = np.arange(-5, 5, 0.2)\n",
    "y1 = sigmoid(x)\n",
    "y2 = [1 for item in range(50)]\n",
    "\n",
    "N = 50\n",
    "area = np.pi * (15 * np.random.rand(N))**2  # 0 to 15 point radii\n",
    "ax = fig.add_subplot(1, 1, 1)\n",
    "\n",
    "# 设置轴的位置\n",
    "ax = plt.gca()  # get current axis 获得坐标轴对象\n",
    "ax.spines['right'].set_color('none')  # 将右边 边沿线颜色设置为空 其实就相当于抹掉这条边\n",
    "ax.spines['top'].set_color('none')\n",
    "ax.xaxis.set_ticks_position('bottom')\n",
    "ax.yaxis.set_ticks_position('left')\n",
    "ax.spines['bottom'].set_position(('data', 0))  # 指定 data 设置的bottom(也就是指定的x轴)绑定到y轴的0这个点上\n",
    "ax.spines['left'].set_position(('data', 0))\n",
    "# plt.xticks(rotation=45)#x轴数值倾斜45度显示\n",
    "\n",
    "plt.plot(x, y1)\n",
    "plt.plot(x, y2)\n",
    "plt.scatter(0, 0.5, s=30, c=1, alpha=0.5)"
   ]
  },
  {
   "cell_type": "markdown",
   "metadata": {},
   "source": [
    "### 6.3 Decision boundary(假设边界)\n",
    "\n",
    "* logistic regression\n",
    "\n",
    "$$\n",
    "h_{\\theta}(x)=g(\\theta^Tx)=P(y=1|x;\\theta)\\\\\n",
    "$$\n",
    "\n",
    "* predict: \"$y=1$\" if $h_{\\theta}(x)\\geq 0.5$\n",
    "\n",
    "* predict: \"$y=0$\" if $h_{\\theta}(x)< 0.5$\n",
    "\n",
    "![](../pic/QQ截图20201023151901.png)\n",
    "\n"
   ]
  },
  {
   "cell_type": "markdown",
   "metadata": {},
   "source": [
    "### 6.4 Cost function\n",
    "\n",
    "* Linear regression: \n",
    "\n",
    "$$\n",
    "J(\\theta_{0}, \\theta_{1})=\\frac{1}{2m}\\sum_{i=1}^{m}(h_{\\theta}(x^{(i)})-y^{(i)})^2\\\\\n",
    "\\quad =\\frac{1}{m}\\sum_{i=1}^{m}\\frac{1}{2}(h_{\\theta}(x^{(i)})-y^{(i)})^2\\\\\n",
    "\\quad =\\frac{1}{m}\\sum_{i=1}^{m} cost(h_{\\theta}(x^{(i)}),y)\\\\\n",
    "cost(h_{\\theta}(x),y) = \\frac{1}{2}(h_{\\theta}(x)-y)^2\n",
    "$$\n",
    "\n",
    "* Use the loss function of linear regression to logistic regression: \"non-convex\"\n",
    "\n",
    "![](../pic/QQ截图20201023153601.png)\n",
    "\n",
    "* the cost of logistic regression\n",
    "* make sure: \"convex\"\n",
    "\n",
    "$$\n",
    "Cost(h_{\\theta}(x^{(i)},y^{(i)}))\\begin{cases} -log(h_{\\theta}(x), & \\text {if $y$ = 1}\\\\ -log(1-h_{\\theta}(x), & \\text{if $y$ =0} \\end{cases}\n",
    "$$\n"
   ]
  },
  {
   "cell_type": "markdown",
   "metadata": {},
   "source": [
    "### 6.5 Simplified cost function and gradient descent\n",
    "\n",
    "* logistic regression cost function\n",
    "\n",
    "$$\n",
    "J(\\theta_{0}, \\theta_{1})=\\frac{1}{m}\\sum_{i=1}^{m}cost(h_{\\theta}(x^{(i)}),y^{(i)}) \\quad (y=0,1)\\\\\n",
    "Cost(h_{\\theta}(x^{(i)},y^{(i)}))\\begin{cases} -log(h_{\\theta}(x), & \\text {if $y$ = 1}\\\\ -log(1-h_{\\theta}(x), & \\text{if $y$ =0} \\end{cases}\\\\\n",
    "$$\n",
    "\n",
    "* define:\n",
    "\n",
    "$$\n",
    "Cost(h_{\\theta}(x),y)=-y \\log (h_{\\theta}(x)-(1-y) \\log(1-h_{\\theta}(x))\\\\\n",
    "J(\\theta)=\\frac{1}{m}\\sum_{i=1}^{m}Cost(h_{\\theta}(x^{(i)}),y^{(i)})\\\\\n",
    "=-\\frac{1}{m}[ \\sum_{i=1}^{m}y^{(i)} \\log (h_{\\theta}(x^{(i)})+(1-y^{(i)}) \\log(1-h_{\\theta}(x^{(i)}))]\\\\\n",
    "$$\n",
    "\n",
    "* 求导得：\n",
    "\n",
    "![](../pic/QQ截图20201023175815.png)\n"
   ]
  },
  {
   "cell_type": "markdown",
   "metadata": {},
   "source": [
    "### 6.6 Advanced optimization(高级优化)\n",
    "\n",
    "* Optimization algorithms:\n",
    "   * Greadient descent\n",
    "   * Conjugate gradient\n",
    "   * BFGS\n",
    "   * L-BFGS\n",
    "   \n",
    "\n"
   ]
  },
  {
   "cell_type": "markdown",
   "metadata": {},
   "source": [
    "### 6.7 Multi-class classification\n",
    "\n",
    "![](../pic/QQ截图20201023193436.png)\n",
    "\n"
   ]
  },
  {
   "cell_type": "code",
   "execution_count": null,
   "metadata": {},
   "outputs": [],
   "source": []
  }
 ],
 "metadata": {
  "kernelspec": {
   "display_name": "Python 3",
   "language": "python",
   "name": "python3"
  },
  "language_info": {
   "codemirror_mode": {
    "name": "ipython",
    "version": 3
   },
   "file_extension": ".py",
   "mimetype": "text/x-python",
   "name": "python",
   "nbconvert_exporter": "python",
   "pygments_lexer": "ipython3",
   "version": "3.6.2"
  }
 },
 "nbformat": 4,
 "nbformat_minor": 4
}
