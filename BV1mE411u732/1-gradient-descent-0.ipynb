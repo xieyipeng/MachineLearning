{
 "cells": [
  {
   "cell_type": "code",
   "execution_count": 2,
   "metadata": {},
   "outputs": [
    {
     "name": "stdout",
     "output_type": "stream",
     "text": [
      "14\n"
     ]
    }
   ],
   "source": [
    "import numpy as np\n",
    "\n",
    "# test np.dot()\n",
    "x = np.array([1,2,3])\n",
    "theta = np.array([1,2,3])\n",
    "\n",
    "print(np.dot(x, theta))"
   ]
  },
  {
   "cell_type": "code",
   "execution_count": 22,
   "metadata": {
    "scrolled": true
   },
   "outputs": [
    {
     "name": "stdout",
     "output_type": "stream",
     "text": [
      "1.2068624206638512 5.739106302152591 198255\n"
     ]
    },
    {
     "data": {
      "image/png": "[encoded data removed]",
      "text/plain": [
       "<matplotlib.figure.Figure at 0x22e966cc208>"
      ]
     },
     "metadata": {
      "needs_background": "light"
     },
     "output_type": "display_data"
    }
   ],
   "source": [
    "import matplotlib.pyplot as plt\n",
    "\n",
    "\n",
    "X = [4, 5, 8, 10, 12]\n",
    "Y = [20, 30, 50, 70, 60]\n",
    "\n",
    "theta0 = theta1 = 0\n",
    "\n",
    "alpha = 0.00001\n",
    "\n",
    "count = 0\n",
    "\n",
    "error0 = error1 = 0\n",
    "\n",
    "threshold = 0.0000001\n",
    "\n",
    "def get_val(x):\n",
    "    return \n",
    "\n",
    "def fun_draw(a, b):\n",
    "    \n",
    "    plt.scatter(X, Y)\n",
    "    y = np.array([1,2,3,4,5])\n",
    "    \n",
    "    for i in range(5):\n",
    "        y[i] = X[i] * a + b\n",
    "    \n",
    "    plt.plot(X, y)\n",
    "    plt.show()\n",
    "    \n",
    "\n",
    "\n",
    "while True:\n",
    "    diff = [0, 0]\n",
    "    \n",
    "    m = len(X)\n",
    "    \n",
    "    for i in range(m):\n",
    "        diff[0] += Y[i] - (theta0 + theta1 * X[i])\n",
    "        diff[1] += (Y[i] - (theta0 + theta1 * X[i])) * X[i]\n",
    "        \n",
    "    \n",
    "    theta0 = theta0 + alpha * diff[0]\n",
    "    theta1 = theta1 + alpha * diff[1]\n",
    "    \n",
    "    # cost function:\n",
    "    for i in range(m):\n",
    "        error1 += (Y[i] - (theta0 + theta1 * X[i])) ** 2\n",
    "        \n",
    "    error1 /= m\n",
    "    \n",
    "    # 上一次的损失函数值与本次的损失函数值进行对比\n",
    "    if abs(error1 - error0) < threshold:\n",
    "        break\n",
    "    else:\n",
    "        error0 = error1;\n",
    "    \n",
    "    count += 1\n",
    "\n",
    "print(theta0, theta1, count)\n",
    "\n",
    "fun_draw(theta1, theta0)\n"
   ]
  },
  {
   "cell_type": "code",
   "execution_count": 23,
   "metadata": {},
   "outputs": [],
   "source": [
    "def predict(theta0, theta1, x_test):\n",
    "    return theta0 + theta1 * x_test"
   ]
  },
  {
   "cell_type": "code",
   "execution_count": 25,
   "metadata": {
    "scrolled": true
   },
   "outputs": [
    {
     "name": "stdout",
     "output_type": "stream",
     "text": [
      "87.29345695295272\n"
     ]
    }
   ],
   "source": [
    "print(predict(theta0, theta1, 15))"
   ]
  },
  {
   "cell_type": "code",
   "execution_count": null,
   "metadata": {},
   "outputs": [],
   "source": []
  }
 ],
 "metadata": {
  "kernelspec": {
   "display_name": "Python 3",
   "language": "python",
   "name": "python3"
  },
  "language_info": {
   "codemirror_mode": {
    "name": "ipython",
    "version": 3
   },
   "file_extension": ".py",
   "mimetype": "text/x-python",
   "name": "python",
   "nbconvert_exporter": "python",
   "pygments_lexer": "ipython3",
   "version": "3.6.2"
  }
 },
 "nbformat": 4,
 "nbformat_minor": 4
}
