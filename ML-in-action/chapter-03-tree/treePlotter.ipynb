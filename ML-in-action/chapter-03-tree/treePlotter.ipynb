{
 "cells": [
  {
   "cell_type": "code",
   "execution_count": 4,
   "metadata": {},
   "outputs": [],
   "source": [
    "# code:3-5\n",
    "import matplotlib.pyplot as plt\n",
    "\n",
    "# 定义树结点格式常量\n",
    "decisionNode = dict(boxstyle=\"sawtooth\", fc=\"0.8\")\n",
    "leafNdoe = dict(boxstyle=\"round4\", fc=\"0.8\")\n",
    "arrow_args = dict(arrowstyle=\"<-\")\n",
    "\n",
    "def plot_node(nodeTxt, centerPt, parentPt, nodeType):\n",
    "    \"\"\"\n",
    "    实际的绘图\n",
    "    \"\"\"\n",
    "    createPlot.ax1.annotate(nodeTxt, xy=parentPt, xycoords='axes fraction', xytext=centerPt, \n",
    "                            textcoords='axes fraction', va=\"center\", ha=\"center\", bbox=nodeType, \n",
    "                            arrowprops=arrow_args) # annotate: 标注文字\n",
    "\n",
    "def createPlot():\n",
    "    # 创建新的图形，并清空绘图区\n",
    "    fig = plt.figure(1, facecolor='white')\n",
    "    fig.clf()\n",
    "    \n",
    "    # 绘制两个不同类型的树结点\n",
    "    createPlot.ax1 = plt.subplot(111, frameon=False)\n",
    "    plot_node(U'desion node', (0.5, 0.1), (0.1, 0.5), decisionNode)\n",
    "    plot_node(U'child node', (0.8, 0.1), (0.3, 0.8), leafNdoe)\n",
    "    plt.show()\n"
   ]
  },
  {
   "cell_type": "code",
   "execution_count": 5,
   "metadata": {},
   "outputs": [
    {
     "data": {
      "image/png": "[encoded data removed]",
      "text/plain": [
       "<Figure size 432x288 with 1 Axes>"
      ]
     },
     "metadata": {},
     "output_type": "display_data"
    }
   ],
   "source": [
    "createPlot()"
   ]
  },
  {
   "cell_type": "code",
   "execution_count": 6,
   "metadata": {},
   "outputs": [],
   "source": [
    "# code 3-6\n",
    "def get_num_leafs(myTree):\n",
    "    \"\"\"\n",
    "    获取叶节点数目\n",
    "    \"\"\"\n",
    "    num_leafs = 0\n",
    "    first_str = list(myTree.keys())[0]\n",
    "    second_dict = myTree[first_str]\n",
    "    for key in second_dict.keys():\n",
    "        # 测试结点数据类型是否为字典\n",
    "        if type(second_dict[key]).__name__=='dict':\n",
    "            num_leafs += get_num_leafs(second_dict[key])\n",
    "        else:\n",
    "            num_leafs += 1\n",
    "    return num_leafs\n",
    "\n",
    "def get_tree_depth(myTree):\n",
    "    \"\"\"\n",
    "    获取树的深度\n",
    "    \"\"\"\n",
    "    max_depth = 0\n",
    "    first_str = list(myTree.keys())[0]\n",
    "    second_dict = myTree[first_str]\n",
    "    for key in second_dict.keys():\n",
    "        if type(second_dict[key]).__name__=='dict':\n",
    "            this_depth = 1 + get_tree_depth(second_dict[key])\n",
    "        else:\n",
    "            this_depth = 1\n",
    "        if this_depth > max_depth: max_depth = this_depth\n",
    "    return max_depth\n",
    "\n",
    "def retrieve_tree(i):\n",
    "    list_of_trees = [{'no surfacing': {0: 'no', 1: {'flippers': {0: 'no', 1: 'yes'}}}},\n",
    "                     {'no surfacing': {0: 'no', 1: {'flippers': {0: {'head': {0: 'no', 1: 'yes'}}, 1: 'no'}}}}]\n",
    "    return list_of_trees[i]"
   ]
  },
  {
   "cell_type": "code",
   "execution_count": 7,
   "metadata": {},
   "outputs": [
    {
     "data": {
      "text/plain": [
       "{'no surfacing': {0: 'no',\n",
       "  1: {'flippers': {0: {'head': {0: 'no', 1: 'yes'}}, 1: 'no'}}}}"
      ]
     },
     "execution_count": 7,
     "metadata": {},
     "output_type": "execute_result"
    }
   ],
   "source": [
    "retrieve_tree(1)"
   ]
  },
  {
   "cell_type": "code",
   "execution_count": 8,
   "metadata": {},
   "outputs": [
    {
     "name": "stdout",
     "output_type": "stream",
     "text": [
      "3\n",
      "2\n"
     ]
    }
   ],
   "source": [
    "myTree = retrieve_tree(0)\n",
    "print(get_num_leafs(myTree))\n",
    "print(get_tree_depth(myTree))"
   ]
  },
  {
   "cell_type": "code",
   "execution_count": 28,
   "metadata": {},
   "outputs": [],
   "source": [
    "# code3-7 plotTree\n",
    "def plot_mid_text(cntrPt, parentPt, txt_string):\n",
    "    \"\"\"\n",
    "    父子节点之间填充文本信息\n",
    "    @cntrPt: 子节点位置(x, y)信息（tuple）\n",
    "    @parentPt: 父节点位置(x, y)信息（tuple）\n",
    "    \"\"\"\n",
    "    xMid = (parentPt[0]-cntrPt[0])/2.0 + cntrPt[0]\n",
    "    yMid = (parentPt[1]-cntrPt[1])/2.0 + cntrPt[1]\n",
    "    createPlot.ax1.text(xMid, yMid, txt_string)\n",
    "\n",
    "def plot_tree(myTree, parentPt, nodeTxt):\n",
    "    \"\"\"\n",
    "    绘图\n",
    "    \"\"\"\n",
    "    # 计算宽高\n",
    "    num_leafs = get_num_leafs(myTree)\n",
    "    depth = get_tree_depth(myTree)\n",
    "    first_str = list(myTree.keys())[0]\n",
    "    \n",
    "    # 标记子结点属性值\n",
    "    cntrPt = (plot_tree.xOff + (1.0 + float(num_leafs))/2.0/plot_tree.totalW, plot_tree.yOff)\n",
    "    plot_mid_text(cntrPt, parentPt, nodeTxt)\n",
    "    # 画节点\n",
    "    plot_node(first_str, cntrPt, parentPt, decisionNode)\n",
    "    # 减少y的偏移量，即更新深度\n",
    "    second_dict = myTree[first_str]\n",
    "    plot_tree.yOff = plot_tree.yOff - 1.0/plot_tree.totalD\n",
    "    # 递归绘图\n",
    "    for key in second_dict.keys():\n",
    "        if type(second_dict[key]).__name__=='dict':\n",
    "            plot_tree(second_dict[key], cntrPt, str(key))\n",
    "        else:\n",
    "            plot_tree.xOff = plot_tree.xOff + 1.0/plot_tree.totalW\n",
    "            plot_node(second_dict[key], (plot_tree.xOff, plot_tree.yOff), cntrPt, leafNdoe)\n",
    "            plot_mid_text((plot_tree.xOff, plot_tree.yOff), cntrPt, str(key))\n",
    "    # 回退y值\n",
    "    plot_tree.yOff = plot_tree.yOff + 1.0/plot_tree.totalD\n",
    "        \n",
    "def create_plot(inTree):\n",
    "    fig = plt.figure(1, facecolor='white')\n",
    "    fig.clf()\n",
    "    axprops = dict(xticks=[], yticks=[])\n",
    "    createPlot.ax1 = plt.subplot(111, frameon=False, **axprops)\n",
    "    \n",
    "    # plot_tree: 函数的全局变量\n",
    "    # 宽度： 叶子节点数\n",
    "    # 深度： 深度\n",
    "    plot_tree.totalW = float(get_num_leafs(inTree))\n",
    "    plot_tree.totalD = float(get_tree_depth(inTree))\n",
    "    # xOff、yOff用来追踪已绘制的节点位置\n",
    "    plot_tree.xOff = -0.5/plot_tree.totalW\n",
    "    plot_tree.yOff = 1.0\n",
    "    plot_tree(inTree, (0.5, 1.0), '')\n",
    "    plt.show()"
   ]
  },
  {
   "cell_type": "code",
   "execution_count": 29,
   "metadata": {},
   "outputs": [
    {
     "data": {
      "image/png": "[encoded data removed]",
      "text/plain": [
       "<Figure size 432x288 with 1 Axes>"
      ]
     },
     "metadata": {},
     "output_type": "display_data"
    }
   ],
   "source": [
    "myTree = retrieve_tree(0)\n",
    "create_plot(myTree)"
   ]
  },
  {
   "cell_type": "code",
   "execution_count": null,
   "metadata": {},
   "outputs": [],
   "source": []
  }
 ],
 "metadata": {
  "kernelspec": {
   "display_name": "Python 3",
   "language": "python",
   "name": "python3"
  },
  "language_info": {
   "codemirror_mode": {
    "name": "ipython",
    "version": 3
   },
   "file_extension": ".py",
   "mimetype": "text/x-python",
   "name": "python",
   "nbconvert_exporter": "python",
   "pygments_lexer": "ipython3",
   "version": "3.6.12"
  }
 },
 "nbformat": 4,
 "nbformat_minor": 4
}
