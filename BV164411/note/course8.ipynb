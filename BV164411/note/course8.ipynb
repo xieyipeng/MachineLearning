{
 "cells": [
  {
   "cell_type": "markdown",
   "metadata": {},
   "source": [
    "### 8.1 Non-linear hypotheses\n",
    "\n",
    "* why do we study neural networks?\n",
    "* 参数过多，使用回归模型拟合非线性边界，会导致巨大的运算量\n",
    "* Too many parameters, using a regression model to fit the nonlinear boundary will result in a huge amount of calculation and too many parameters\n",
    "\n",
    "![](../pic/QQ截图20201024201412.png)\n"
   ]
  },
  {
   "cell_type": "markdown",
   "metadata": {},
   "source": [
    "### 8.2 Neurons and the brain\n",
    "\n",
    "* input layer $\\Rightarrow$ hidden layer $\\Rightarrow$ output layer\n",
    "\n",
    "$a_i^{(j)} = $ layer (j), unit (i)\n",
    "\n",
    "$\\theta^{(j)} = $ weights from layer (j) to layer (j+1)\n",
    "\n",
    "\n"
   ]
  },
  {
   "cell_type": "code",
   "execution_count": null,
   "metadata": {},
   "outputs": [],
   "source": []
  }
 ],
 "metadata": {
  "kernelspec": {
   "display_name": "Python 3",
   "language": "python",
   "name": "python3"
  },
  "language_info": {
   "codemirror_mode": {
    "name": "ipython",
    "version": 3
   },
   "file_extension": ".py",
   "mimetype": "text/x-python",
   "name": "python",
   "nbconvert_exporter": "python",
   "pygments_lexer": "ipython3",
   "version": "3.6.2"
  }
 },
 "nbformat": 4,
 "nbformat_minor": 4
}
