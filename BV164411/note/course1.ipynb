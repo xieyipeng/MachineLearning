{
 "cells": [
  {
   "cell_type": "markdown",
   "metadata": {},
   "source": [
    "### 1.1 welcome\n",
    "* [视频链接](https://www.bilibili.com/video/BV164411b7dx?p=1)"
   ]
  },
  {
   "cell_type": "markdown",
   "metadata": {},
   "source": [
    "### 1.2 what is the ML?\n",
    "* define：在没有明确设置的情况下，使计算机具有学习能力的研究领域。\n",
    "   * 跳棋程序 Samuel\n",
    "\n",
    "* define：计算机程序从经验E中学习解决某任务T，进行某一性能度量P，通过P测定在T上的表现因经验E而提高。\n",
    "   * Tom\n",
    "   \n",
    "* 监督学习：我们教会计算机做某件事\n",
    "* 无监督学习：计算机自己学"
   ]
  },
  {
   "cell_type": "markdown",
   "metadata": {},
   "source": [
    "### 1.3 supervised learning\n",
    "* eg1:\n",
    "![](../pic/p1.png)\n",
    "\n",
    "* eg2:\n",
    "![](../pic/QQ截图20201019145740.png)\n",
    "\n",
    "![](../pic/QQ截图20201019150024.png)"
   ]
  },
  {
   "cell_type": "markdown",
   "metadata": {},
   "source": [
    "### 1.4 unsupervised learning\n",
    "* clustering\n",
    "\n",
    "![](../pic/QQ截图20201020144956.png)\n",
    "\n",
    "* Cocktail partu problem\n",
    "\n",
    "![](../pic/QQ截图20201020145057.png)"
   ]
  }
 ],
 "metadata": {
  "kernelspec": {
   "display_name": "Python 3",
   "language": "python",
   "name": "python3"
  },
  "language_info": {
   "codemirror_mode": {
    "name": "ipython",
    "version": 3
   },
   "file_extension": ".py",
   "mimetype": "text/x-python",
   "name": "python",
   "nbconvert_exporter": "python",
   "pygments_lexer": "ipython3",
   "version": "3.6.2"
  }
 },
 "nbformat": 4,
 "nbformat_minor": 4
}
